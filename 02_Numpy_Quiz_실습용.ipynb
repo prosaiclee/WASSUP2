{
 "cells": [
  {
   "cell_type": "markdown",
   "id": "6f17d151",
   "metadata": {},
   "source": [
    "### Quiz"
   ]
  },
  {
   "cell_type": "markdown",
   "id": "822f98fc",
   "metadata": {},
   "source": [
    "#### Q1. 다음과 같은 리스트를 이용하여 넘파이 배열을 만들고\n",
    "전체 갯수, 차원, 데이터형, 구조를 출력하여라\n",
    "```\n",
    "\n",
    "['강아지', '원숭이', '꽃', '45', '100']\n",
    "\n",
    "array(['강아지', '원숭이', '꽃', '45', '100'], dtype='<U3')\n",
    "차원 ? 1\n",
    "전체 갯수 ? 5\n",
    "데이터형 ? <U3\n",
    "전체 구조  ? (5,)\n",
    "```"
   ]
  },
  {
   "cell_type": "code",
   "execution_count": 1,
   "id": "57a5c6c5-660c-4f82-99a1-a578a300f8cd",
   "metadata": {
    "scrolled": true
   },
   "outputs": [
    {
     "data": {
      "text/plain": [
       "'1.24.3'"
      ]
     },
     "execution_count": 1,
     "metadata": {},
     "output_type": "execute_result"
    }
   ],
   "source": [
    "import numpy as np\n",
    "np.__version__"
   ]
  },
  {
   "cell_type": "code",
   "execution_count": 8,
   "id": "192f28b6",
   "metadata": {},
   "outputs": [],
   "source": [
    "list_data = ['강아지', '원숭이', '꽃', '45', '100']\n",
    "array_data = np.array(list_data)"
   ]
  },
  {
   "cell_type": "code",
   "execution_count": 12,
   "id": "83cc19e5",
   "metadata": {},
   "outputs": [
    {
     "name": "stdout",
     "output_type": "stream",
     "text": [
      "1\n",
      "5\n",
      "<U3\n",
      "(5,)\n"
     ]
    }
   ],
   "source": [
    "print(array_data.ndim) #차원\n",
    "print(array_data.size) #요소 수\n",
    "print(array_data.dtype) # 데이터 형\n",
    "print(array_data.shape) # 전체 구조"
   ]
  },
  {
   "cell_type": "code",
   "execution_count": null,
   "id": "300403b4",
   "metadata": {},
   "outputs": [],
   "source": []
  },
  {
   "cell_type": "markdown",
   "id": "e1cef698",
   "metadata": {},
   "source": [
    "#### Q2. np.ones()를 이용하여\n",
    "2행 3열의 넘파이 배열을 생성하여라\n",
    "\n",
    "array([[1., 1., 1.],\n",
    "       [1., 1., 1.]])"
   ]
  },
  {
   "cell_type": "code",
   "execution_count": 13,
   "id": "fc428147-8468-487e-96e3-21141f9dfe88",
   "metadata": {},
   "outputs": [
    {
     "name": "stdout",
     "output_type": "stream",
     "text": [
      "[[1. 1. 1.]\n",
      " [1. 1. 1.]]\n"
     ]
    }
   ],
   "source": [
    "array_list = np.ones((2, 3)) #2행, 3열\n",
    "print(array_list)"
   ]
  },
  {
   "cell_type": "markdown",
   "id": "42c9b79e",
   "metadata": {},
   "source": [
    "#### Q3. np.arange(), np.reshape()를 이용하여\n",
    "다음과 같은 넘파이 배열을 생성하여라\n",
    "```\n",
    "array([[51, 52, 53, 54, 55],\n",
    "       [56, 57, 58, 59, 60],\n",
    "       [61, 62, 63, 64, 65],\n",
    "       [66, 67, 68, 69, 70],\n",
    "       [71, 72, 73, 74, 75],\n",
    "       [76, 77, 78, 79, 80]])\n",
    "```"
   ]
  },
  {
   "cell_type": "code",
   "execution_count": 19,
   "id": "f36d1318-abab-4e6a-8ba3-87e71b36d100",
   "metadata": {},
   "outputs": [
    {
     "name": "stdout",
     "output_type": "stream",
     "text": [
      "[[51 52 53 54 55]\n",
      " [56 57 58 59 60]\n",
      " [61 62 63 64 65]\n",
      " [66 67 68 69 70]\n",
      " [71 72 73 74 75]\n",
      " [76 77 78 79 80]]\n"
     ]
    }
   ],
   "source": [
    "array_1 = np.arange(51, 81) #51-80까지 1차원 배열 생성\n",
    "array_2 = np.reshape(array_1, (6, 5)) # 5행 6열 2차원 배열로 변형\n",
    "print(array_2) # 출력"
   ]
  },
  {
   "cell_type": "markdown",
   "id": "6b0dd4b5",
   "metadata": {},
   "source": [
    "#### Q4. Q3의 넘파이 배열의 자료형을\n",
    "float로 변경하고 데이터형을 출력하여라\n",
    "```\n",
    "array([[51., 52., 53., 54., 55.],\n",
    "       [56., 57., 58., 59., 60.],\n",
    "       [61., 62., 63., 64., 65.],\n",
    "       [66., 67., 68., 69., 70.],\n",
    "       [71., 72., 73., 74., 75.],\n",
    "       [76., 77., 78., 79., 80.]])\n",
    "```\n",
    "-------------------------------------  \n",
    "\n",
    "dtype('float64')"
   ]
  },
  {
   "cell_type": "code",
   "execution_count": 21,
   "id": "200dc541-ca25-4797-a0e8-cec3aae25b4c",
   "metadata": {},
   "outputs": [
    {
     "name": "stdout",
     "output_type": "stream",
     "text": [
      "[[51. 52. 53. 54. 55.]\n",
      " [56. 57. 58. 59. 60.]\n",
      " [61. 62. 63. 64. 65.]\n",
      " [66. 67. 68. 69. 70.]\n",
      " [71. 72. 73. 74. 75.]\n",
      " [76. 77. 78. 79. 80.]]\n",
      "float64\n"
     ]
    }
   ],
   "source": [
    "array_2 = np.arange(51, 81).reshape(6, 5)\n",
    "array_2 = array_2.astype(np.float64) # 배열 자료형을 float64로 변환\n",
    "print(array_2)\n",
    "print(array_2.dtype) #dtype으로 변환된 배열의 자료형 출력"
   ]
  },
  {
   "cell_type": "markdown",
   "id": "906cf1f4",
   "metadata": {},
   "source": [
    "#### Q5. 다음과 같이 넘파이 배열을 생성한 후 1차원 배열로 변경하고 슬라이싱하여라 \n",
    "\n",
    "```\n",
    "array([[ 1,  4,  5,  6],\n",
    "       [56, 23, 45, 67],\n",
    "       [ 8,  4,  6, 10]])\n",
    "       \n",
    "array([ 1,  4,  5,  6, 56, 23, 45, 67,  8,  4,  6, 10])\n",
    "\n",
    "\n",
    "array([23, 45, 67,  8,  4,  6])\n",
    "```       "
   ]
  },
  {
   "cell_type": "code",
   "execution_count": 34,
   "id": "90724111-e79d-4da8-a30f-bfa15e788f7e",
   "metadata": {},
   "outputs": [
    {
     "name": "stdout",
     "output_type": "stream",
     "text": [
      "[ 1  4  5  6 56 23 45 67  8  4  6 10]\n",
      "[23 45 67  8  4]\n"
     ]
    }
   ],
   "source": [
    "array_2d = np.array([[ 1,  4,  5,  6],\n",
    "                    [56, 23, 45, 67],\n",
    "                    [ 8,  4,  6, 10]]) #  어레이 2d 정의 2차원\n",
    "array_1d = array_2d.reshape(-1) # 어레이 2d 차원 축소 -> 어레이 1\n",
    "print(array_1d) # 어레이 1 확인\n",
    "sliced_array = array_1d[5:10] # 어레이 슬라이싱\n",
    "print(sliced_array) #어레이 슬라이싱 출력"
   ]
  },
  {
   "cell_type": "markdown",
   "id": "46e67feb",
   "metadata": {},
   "source": [
    "#### Q6. 다음과 같은 넘파이 배열을 생성한 후 아이템을 교체하여라 \n",
    "\n",
    "```\n",
    "array([ 1,  2,  3,  4,  5,  6,  7,  8,  9, 10])\n",
    "\n",
    "array([10,  2,  3,  4,  5,  6,  7,  0,  0,  0])\n",
    "\n",
    "```"
   ]
  },
  {
   "cell_type": "code",
   "execution_count": 35,
   "id": "c7cd6fbe-380b-4e29-98f8-902b110a7207",
   "metadata": {},
   "outputs": [
    {
     "name": "stdout",
     "output_type": "stream",
     "text": [
      "[10  2  3  4  5  6  7 10  2  3]\n"
     ]
    }
   ],
   "source": [
    "array_1d = np.array([1, 2, 3, 4, 5, 6, 7, 8, 9, 10])\n",
    "array_1d[0], array_1d[-3:] = array_1d[-1], array_1d[:3]  \n",
    "# array_1d[0]: 배열의 첫 번째 요소, array_1d[-3:]: 배열의 마지막 세 개의 요소, array_1d[:3]: 배열의 처음 세 개의 요소\n",
    "print(array_1d)"
   ]
  },
  {
   "cell_type": "markdown",
   "id": "cf265b90",
   "metadata": {},
   "source": [
    "#### Q7. 2자리의 숫자로 구성된 넘파이 배열(5행5열)을 만들어라. 숫자는 난수를 이용한다. \n",
    "\n",
    "```\n",
    "[[63 85 71 67 15]\n",
    " [31 81 69 17 97]\n",
    " [25 41 33 23 39]\n",
    " [39 43 59 33 43]\n",
    " [23 51 65 91 23]]\n",
    "\n",
    "```"
   ]
  },
  {
   "cell_type": "code",
   "execution_count": 37,
   "id": "0520d5ad-2e3a-4aca-acc5-3f08a08845aa",
   "metadata": {},
   "outputs": [
    {
     "name": "stdout",
     "output_type": "stream",
     "text": [
      "[[89 30 20 39 94]\n",
      " [52 65 22 69 69]\n",
      " [19 24 39 62 32]\n",
      " [66 22 53 42 68]\n",
      " [96 78 14 44 86]]\n"
     ]
    }
   ],
   "source": [
    "array_2d = np.random.randint(10, 100, (5, 5)) # array_2d 랜덤  , randint 함수의 첫 번째 인수는 최솟값 (포함), 두 번째 인수는 최댓값 (미포함)입니다.\n",
    "print(array_2d)"
   ]
  },
  {
   "cell_type": "markdown",
   "id": "5c5ccecf",
   "metadata": {},
   "source": [
    "#### Q8. 1~100 사이의 정수중 7개의 숫자를 무작위로 추출한 후 가장 큰값과 가장 작은 값을 출력하여라.\n",
    "[91, 65, 14, 66, 65, 98, 34]\n",
    "\n",
    "max = 98\n",
    "min = 14"
   ]
  },
  {
   "cell_type": "code",
   "execution_count": 38,
   "id": "54209548-9daf-4b72-aec9-c6c8c60c7c13",
   "metadata": {},
   "outputs": [
    {
     "name": "stdout",
     "output_type": "stream",
     "text": [
      "[74  7  9 89 54 33 73]\n",
      "89\n",
      "7\n"
     ]
    }
   ],
   "source": [
    "numbers = np.random.randint(1, 101, 7) # 랜덤 1 - 100, 7 개\n",
    "max_v = np.max(numbers) # 최댓값\n",
    "min_v = np.min(numbers) # 최솟값\n",
    "\n",
    "print(numbers)\n",
    "print(max_v)\n",
    "print(min_v)"
   ]
  },
  {
   "cell_type": "markdown",
   "id": "24dcaa28",
   "metadata": {},
   "source": [
    "#### Q9. 다음과 같은 3개의 넘파이 배열을 생성한 후 다음과 같이 합쳐라\n",
    "```\n",
    "[[1, 2, 3],\n",
    " [4, 5, 6],\n",
    " [7, 8, 9]]\n",
    "\n",
    "\n",
    "[[11, 12, 13],\n",
    " [14, 15, 16],\n",
    " [17, 18, 19]]\n",
    "\n",
    "\n",
    "[[21, 22, 23],\n",
    " [24, 25, 26],\n",
    " [27, 28, 29]]\n",
    "```\n",
    " ----------\n",
    "  Result1 \n",
    "```\n",
    " [[ 1,  2,  3, 11, 12, 13, 21, 22, 23],\n",
    "  [ 4,  5,  6, 14, 15, 16, 24, 25, 26],\n",
    "  [ 7,  8,  9, 17, 18, 19, 27, 28, 29]] \n",
    "```\n",
    "\n",
    "  ----------\n",
    "  Result2\n",
    "```\n",
    " [[ 1,  2,  3],\n",
    "  [ 4,  5,  6],\n",
    "  [ 7,  8,  9],\n",
    "  [11, 12, 13],\n",
    "  [14, 15, 16],\n",
    "  [17, 18, 19],\n",
    "  [21, 22, 23],\n",
    "  [24, 25, 26],\n",
    "  [27, 28, 29]]\n",
    "```"
   ]
  },
  {
   "cell_type": "code",
   "execution_count": 40,
   "id": "a0442d46-bff4-4b28-b7ff-65ddffd05292",
   "metadata": {},
   "outputs": [
    {
     "name": "stdout",
     "output_type": "stream",
     "text": [
      "[[ 1  2  3 11 12 13 21 22 23]\n",
      " [ 4  5  6 14 15 16 24 25 26]\n",
      " [ 7  8  9 17 18 19 27 28 29]]\n",
      "[[ 1  2  3]\n",
      " [ 4  5  6]\n",
      " [ 7  8  9]\n",
      " [11 12 13]\n",
      " [14 15 16]\n",
      " [17 18 19]\n",
      " [21 22 23]\n",
      " [24 25 26]\n",
      " [27 28 29]]\n"
     ]
    }
   ],
   "source": [
    "array_1 = np.array([[1, 2, 3],\n",
    "                    [4, 5, 6],\n",
    "                    [7, 8, 9]])\n",
    "array_2 = np.array([[11, 12, 13],\n",
    "                    [14, 15, 16],\n",
    "                    [17, 18, 19]])\n",
    "array_3 = np.array([[21, 22, 23],\n",
    "                    [24, 25, 26],\n",
    "                    [27, 28, 29]])\n",
    "\n",
    "result_1 = np.concatenate((array_1, array_2, array_3), axis=1) # np.concatenate((array_1, array_2, array_3), axis=1): axis=1 옵션을 사용하여 세 개의 배열을 열 방향으로 합칩니다.\n",
    "print(result_1)\n",
    "\n",
    "result_2 = np.concatenate((array_1, array_2, array_3), axis=0)\n",
    "print(result_2) # np.concatenate((array_1, array_2, array_3), axis=0): axis=0 옵션을 사용하여 세 개의 배열을 행 방향으로 합칩니다."
   ]
  },
  {
   "cell_type": "markdown",
   "id": "2d8638be",
   "metadata": {},
   "source": [
    "#### Q10. 아래와 같이 넘파이 배열을 생성한 후 50보다 큰 숫자만 필터링하여라. \n",
    "\n",
    "```\n",
    "arr = np.random.choice(100, 40, replace=False)\n",
    "\n",
    "Before => \n",
    "\n",
    "[40, 63,  8,  2, 35, 84, 72, 48, 78, 86, 87, 58,  0, 49, 14, 55, 11,\n",
    "       73, 39, 26, 75, 27, 99, 46, 25, 22, 34, 83, 24, 47, 31, 57, 62, 19,\n",
    "       36, 15, 17, 10, 98, 90]\n",
    "\n",
    "After =>\n",
    "\n",
    "[63, 84, 72, 78, 86, 87, 58, 55, 73, 75, 99, 83, 57, 62, 98, 90]\n",
    "\n",
    "```"
   ]
  },
  {
   "cell_type": "code",
   "execution_count": 47,
   "id": "03c22039-7e21-48fd-9cba-bec220da6ee2",
   "metadata": {},
   "outputs": [
    {
     "name": "stdout",
     "output_type": "stream",
     "text": [
      "before:\n",
      "[10 17 33  2 83 27 50 69 67 52 55 61 72 96  4 43 22 92 99 47 41 12 38 71\n",
      " 14  5 49 84 15 77 86 78 13 46 82 91 68 16 30 35]\n",
      "after:\n",
      "[83 69 67 52 55 61 72 96 92 99 71 84 77 86 78 82 91 68]\n"
     ]
    }
   ],
   "source": [
    "arr = np.random.choice(100, 40, replace=False)\n",
    "filtered_arr = arr[arr>50]\n",
    "print(f\"before:\\n{arr}\")\n",
    "print(f\"after:\\n{filtered_arr}\")"
   ]
  },
  {
   "cell_type": "markdown",
   "id": "249ef810",
   "metadata": {},
   "source": [
    "#### Quiz 11\n",
    "```\n",
    "kor = np.array( [60,55,70,30,20,90])\n",
    "1. 국어점수가 가장큰값을 구하여라\n",
    "2. 국어점수가 80점이상인 값을 구하여라\n",
    "3. 국어 점수가 50점이상 80점 이하인 값을 구하여라\n",
    "4. 국어점수의 평균을 구하여라\n",
    "5. 국어점수의 총합을 구하여라.\n",
    "6. 국어점수가 40점이하인 데이터를 삭제하여라\n",
    "7. 국어점수가 50점이상인 데이터에 가산점 10%를 부여하여라\n",
    "8. 국어점수 top 3를 구하여라\n",
    "9. 국어점수가 70점이상이면 '합격' , 아니면 '불합격으로' 아래와 같이 출력하시요\n",
    "\n",
    "60 '불합격'\n",
    "55 '불합격'\n",
    "```"
   ]
  },
  {
   "cell_type": "code",
   "execution_count": 56,
   "id": "306a7066-dc57-4935-bfcb-56c3c1bf3080",
   "metadata": {},
   "outputs": [
    {
     "name": "stdout",
     "output_type": "stream",
     "text": [
      "1 90\n",
      "2 [90]\n",
      "3 [60 55 70]\n",
      "4 54.166666666666664\n",
      "5 325\n",
      "[60 55 70 90]\n",
      "[66 60 77 30 20 99]\n",
      "국어 점수 상위 3명: [66 77 99]\n",
      "66 불합격\n",
      "60 불합격\n",
      "77 합격\n",
      "30 불합격\n",
      "20 불합격\n",
      "99 합격\n"
     ]
    }
   ],
   "source": [
    "#1번\n",
    "kor = np.array( [60,55,70,30,20,90])\n",
    "max_score = np.max(kor)\n",
    "print(\"1\", max_score)\n",
    "\n",
    "#2\n",
    "high_scores = kor[kor >= 80]\n",
    "print(\"2\", high_scores)\n",
    "\n",
    "#3\n",
    "mid_scores = kor[(kor >= 50) & (kor <= 80)]\n",
    "print(\"3\", mid_scores)\n",
    "\n",
    "#4\n",
    "average_score = np.mean(kor)\n",
    "print(\"4\", average_score)\n",
    "\n",
    "#5\n",
    "total_score = np.sum(kor)\n",
    "print(\"5\", total_score)\n",
    "\n",
    "#6\n",
    "kor_40 = kor[kor > 40]\n",
    "print(kor_40)\n",
    "\n",
    "#7\n",
    "high_score_idx = kor >= 50\n",
    "kor[high_score_idx] = (kor[high_score_idx] * 1.1).astype(np.int32)  # 계산 후 데이터 형변환\n",
    "print(kor)\n",
    "\n",
    "#8\n",
    "top_3_idx = np.argsort(kor)[-3:]\n",
    "\n",
    "print(f\"국어 점수 상위 3명: {kor[top_3_idx]}\")\n",
    "\n",
    "#9\n",
    "result = [\"합격\" if score >= 70 else \"불합격\" for score in kor]\n",
    "\n",
    "# 결과 출력\n",
    "for score, result in zip(kor, result):\n",
    "    print(f\"{score} {result}\")"
   ]
  },
  {
   "cell_type": "code",
   "execution_count": null,
   "id": "1a6b790c",
   "metadata": {},
   "outputs": [],
   "source": []
  }
 ],
 "metadata": {
  "kernelspec": {
   "display_name": "Python 3 (ipykernel)",
   "language": "python",
   "name": "python3"
  },
  "language_info": {
   "codemirror_mode": {
    "name": "ipython",
    "version": 3
   },
   "file_extension": ".py",
   "mimetype": "text/x-python",
   "name": "python",
   "nbconvert_exporter": "python",
   "pygments_lexer": "ipython3",
   "version": "3.11.5"
  },
  "toc": {
   "base_numbering": 1,
   "nav_menu": {},
   "number_sections": true,
   "sideBar": true,
   "skip_h1_title": false,
   "title_cell": "Table of Contents",
   "title_sidebar": "Contents",
   "toc_cell": false,
   "toc_position": {
    "height": "calc(100% - 180px)",
    "left": "10px",
    "top": "150px",
    "width": "232px"
   },
   "toc_section_display": true,
   "toc_window_display": true
  },
  "varInspector": {
   "cols": {
    "lenName": 16,
    "lenType": 16,
    "lenVar": 40
   },
   "kernels_config": {
    "python": {
     "delete_cmd_postfix": "",
     "delete_cmd_prefix": "del ",
     "library": "var_list.py",
     "varRefreshCmd": "print(var_dic_list())"
    },
    "r": {
     "delete_cmd_postfix": ") ",
     "delete_cmd_prefix": "rm(",
     "library": "var_list.r",
     "varRefreshCmd": "cat(var_dic_list()) "
    }
   },
   "types_to_exclude": [
    "module",
    "function",
    "builtin_function_or_method",
    "instance",
    "_Feature"
   ],
   "window_display": false
  }
 },
 "nbformat": 4,
 "nbformat_minor": 5
}
