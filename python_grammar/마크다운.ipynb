{
 "cells": [
  {
   "cell_type": "markdown",
   "id": "6eb3a399",
   "metadata": {
    "id": "6eb3a399"
   },
   "source": [
    "[공통] 마크다운 markdown 작성법\n",
    "======================"
   ]
  },
  {
   "cell_type": "markdown",
   "id": "7418f77b",
   "metadata": {
    "id": "7418f77b"
   },
   "source": [
    "> 영어지만, 조금 더 상세하게 마크다운 사용법을 안내하고 있는    \n",
    "> \"Markdown Guide (https://www.markdownguide.org/)\" 를 보시는 것을 추천합니다. ^^\n",
    "\n",
    "> 아, 그리고 마크다운만으로 표현이 부족하다고 느끼신다면, HTML 태그를 활용하시는 것도 좋습니다."
   ]
  },
  {
   "cell_type": "markdown",
   "id": "b91cc751",
   "metadata": {
    "id": "b91cc751"
   },
   "source": [
    "# 마크다운에 관하여\n",
    "## 마크다운이란?\n",
    "[**Markdown**](https://www.markdownguide.org/getting-started/)은 텍스트 기반의 마크업언어로 2004년 존그루버에 의해 만들어졌으며 쉽게 쓰고 읽을 수 있으며 HTML로 변환이 가능하다. 특수기호와 문자를 이용한 매우 간단한 구조의 문법을 사용하여 웹에서도 보다 빠르게 컨텐츠를 작성하고 보다 직관적으로 인식할 수 있다.\n",
    "마크다운이 최근 각광받기 시작한 이유는 깃헙([https://github.com](https://github.com)) 덕분이다. 깃헙의 저장소Repository에 관한 정보를 기록하는 README.md는 깃헙을 사용하는 사람이라면 누구나 가장 먼저 접하게 되는 마크다운 문서였다. 마크다운을 통해서 설치방법, 소스코드 설명, 이슈 등을 간단하게 기록하고 가독성을 높일 수 있다는 강점이 부각되면서 점점 여러 곳으로 퍼져가게 된다."
   ]
  },
  {
   "cell_type": "markdown",
   "id": "52bee78f",
   "metadata": {
    "id": "52bee78f"
   },
   "source": [
    "## 마크다운의 장-단점\n",
    "### 장점\n",
    "\t1. 간결하다.\n",
    "\t2. 별도의 도구없이 작성가능하다.\n",
    "\t3. 다양한 형태로 변환이 가능하다.\n",
    "\t4. 텍스트(Text)로 저장되기 때문에 용량이 적어 보관이 용이하다.\n",
    "\t5. 텍스트파일이기 때문에 버전관리시스템을 이용하여 변경이력을 관리할 수 있다.\n",
    "\t6. 지원하는 프로그램과 플랫폼이 다양하다."
   ]
  },
  {
   "cell_type": "markdown",
   "id": "df062fba",
   "metadata": {
    "id": "df062fba"
   },
   "source": [
    "### 단점\n",
    "\t1. 표준이 없다.\n",
    "\t2. 표준이 없기 때문에 도구에 따라서 변환방식이나 생성물이 다르다.\n",
    "\t3. 모든 HTML 마크업을 대신하지 못한다."
   ]
  },
  {
   "cell_type": "markdown",
   "id": "f529052c",
   "metadata": {
    "id": "f529052c"
   },
   "source": [
    "****\n",
    "# 마크다운 사용법(문법)"
   ]
  },
  {
   "cell_type": "markdown",
   "id": "0f2a2101",
   "metadata": {
    "id": "0f2a2101"
   },
   "source": [
    "## 헤더Headers\n",
    "* 큰제목: 문서 제목\n",
    "    ```\n",
    "    This is an H1\n",
    "    =============\n",
    "    ```    "
   ]
  },
  {
   "cell_type": "markdown",
   "id": "ea123527",
   "metadata": {
    "id": "9e17c2ce"
   },
   "source": [
    "This is an H1\n",
    "==="
   ]
  },
  {
   "cell_type": "markdown",
   "id": "e1508f8b",
   "metadata": {
    "id": "e1508f8b"
   },
   "source": [
    "* 작은제목: 문서 부제목\n",
    "    ```\n",
    "    This is an H2\n",
    "    -------------\n",
    "    ```"
   ]
  },
  {
   "cell_type": "markdown",
   "id": "8d4f0b50",
   "metadata": {
    "id": "c0896897"
   },
   "source": [
    "this is H2\n",
    "=="
   ]
  },
  {
   "cell_type": "markdown",
   "id": "82ccde72",
   "metadata": {
    "id": "82ccde72"
   },
   "source": [
    "* 글머리: 1~6까지만 지원\n",
    "```\n",
    "# This is a H1\n",
    "## This is a H2\n",
    "### This is a H3\n",
    "#### This is a H4\n",
    "##### This is a H5\n",
    "###### This is a H6\n",
    "```"
   ]
  },
  {
   "cell_type": "code",
   "execution_count": null,
   "id": "8ce8c928",
   "metadata": {
    "id": "8ce8c928"
   },
   "outputs": [],
   "source": []
  },
  {
   "cell_type": "markdown",
   "id": "32662848",
   "metadata": {
    "id": "32662848"
   },
   "source": [
    "## BlockQuote\n",
    "이메일에서 사용하는 ```>``` 블럭인용문자를 이용한다.\n",
    "```\n",
    "> This is a first blockqute.\n",
    ">\t> This is a second blockqute.\n",
    ">\t>\t> This is a third blockqute.\n",
    "```"
   ]
  },
  {
   "cell_type": "markdown",
   "id": "feb09821",
   "metadata": {
    "id": "4facc1d7"
   },
   "source": [
    "> this is a first blockqute.\n",
    ">>this is a second"
   ]
  },
  {
   "cell_type": "markdown",
   "id": "082b1019",
   "metadata": {},
   "source": [
    "> ### this is H3\n",
    ">> ## this is H2"
   ]
  },
  {
   "cell_type": "markdown",
   "id": "8ba88720",
   "metadata": {
    "id": "8ba88720"
   },
   "source": [
    "이 안에서는 다른 마크다운 요소를 포함할 수 있다.\n",
    "> ### This is a H3\n",
    "> * List\n",
    ">\t```\n",
    ">\tcode\n",
    ">\t```"
   ]
  },
  {
   "cell_type": "code",
   "execution_count": null,
   "id": "5b6bdf82",
   "metadata": {
    "id": "5b6bdf82"
   },
   "outputs": [],
   "source": []
  },
  {
   "cell_type": "markdown",
   "id": "324b0d35",
   "metadata": {
    "id": "324b0d35"
   },
   "source": [
    "## 목록\n",
    "### ● 순서있는 목록(번호)\n",
    "순서있는 목록은 숫자와 점을 사용한다.\n",
    "```\n",
    "1. 첫번째\n",
    "2. 두번째\n",
    "3. 세번째\n",
    "```"
   ]
  },
  {
   "cell_type": "code",
   "execution_count": null,
   "id": "94159d31",
   "metadata": {
    "id": "94159d31"
   },
   "outputs": [],
   "source": []
  },
  {
   "cell_type": "markdown",
   "id": "8aa4ea17",
   "metadata": {
    "id": "8aa4ea17"
   },
   "source": [
    "**현재까지는 어떤 번호를 입력해도 순서는 내림차순으로 정의된다.**\n",
    "```\n",
    "1. 첫번째\n",
    "3. 세번째\n",
    "2. 두번째\n",
    "```\n",
    "딱히 개선될 것 같지는 않다. 존 그루버가 신경안쓰고 있다고..."
   ]
  },
  {
   "cell_type": "code",
   "execution_count": null,
   "id": "4df5ea36",
   "metadata": {
    "id": "4df5ea36"
   },
   "outputs": [],
   "source": []
  },
  {
   "cell_type": "markdown",
   "id": "f13ae310",
   "metadata": {
    "id": "f13ae310"
   },
   "source": [
    "### ● 순서없는 목록(글머리 기호: `*`, `+`, `-` 지원)\n",
    "```\n",
    "* 빨강\n",
    "  * 녹색\n",
    "    * 파랑\n",
    "\n",
    "+ 빨강\n",
    "  + 녹색\n",
    "    + 파랑\n",
    "\n",
    "- 빨강\n",
    "  - 녹색\n",
    "    - 파랑\n",
    "```"
   ]
  },
  {
   "cell_type": "markdown",
   "id": "6c7bc2b2",
   "metadata": {
    "id": "366e5292"
   },
   "source": [
    "* 빨강\n",
    "    * 녹색\n",
    "        *파랑\n",
    "        \n",
    "+ 빨강\n",
    "    +녹색\n",
    "        +파랑\n",
    "        "
   ]
  },
  {
   "cell_type": "markdown",
   "id": "4d4d8af3",
   "metadata": {
    "id": "4d4d8af3"
   },
   "source": [
    "혼합해서 사용하는 것도 가능하다(내가 선호하는 방식)\n",
    "```\n",
    "* 1단계\n",
    "  - 2단계\n",
    "    + 3단계\n",
    "      + 4단계\n",
    "```"
   ]
  },
  {
   "cell_type": "code",
   "execution_count": null,
   "id": "2d2cce2f",
   "metadata": {
    "id": "2d2cce2f"
   },
   "outputs": [],
   "source": []
  },
  {
   "cell_type": "markdown",
   "id": "8b9f2b4c",
   "metadata": {
    "id": "8b9f2b4c"
   },
   "source": [
    "## 코드\n",
    "4개의 공백 또는 하나의 탭으로 들여쓰기를 만나면 변환되기 시작하여 들여쓰지 않은 행을 만날때까지 변환이 계속된다.\n",
    "\n",
    "### 들여쓰기\n",
    "```\n",
    "This is a normal paragraph:\n",
    "\n",
    "    This is a code block.\n",
    "    \n",
    "end code block.\n",
    "```"
   ]
  },
  {
   "cell_type": "markdown",
   "id": "2c876f2c",
   "metadata": {
    "id": "2c876f2c"
   },
   "source": [
    "실제로 적용해보면,\n",
    "\n",
    "적용예:\n",
    "\n",
    "*****\n",
    "This is a normal paragraph:\n",
    "\n",
    "    This is a code block.\n",
    "\n",
    "end code block.\n",
    "*****"
   ]
  },
  {
   "cell_type": "markdown",
   "id": "7e4f4549",
   "metadata": {
    "id": "3977da6e"
   },
   "source": [
    "this is a code block.\n",
    "   \n",
    "    this is a code block. font is changed\n",
    "\n",
    "end code block."
   ]
  },
  {
   "cell_type": "markdown",
   "id": "89085d5b",
   "metadata": {
    "id": "89085d5b"
   },
   "source": [
    "> 한줄 띄어쓰지 않으면 인식이 제대로 안되는 문제가 발생합니다.\n",
    "\n",
    "```\n",
    "This is a normal paragraph:\n",
    "    This is a code block.\n",
    "end code block.\n",
    "```\n",
    "\n",
    "적용예:\n",
    "\n",
    "*****\n",
    "This is a normal paragraph:\n",
    "    This is a code block.\n",
    "end code block.\n",
    "*****"
   ]
  },
  {
   "cell_type": "code",
   "execution_count": null,
   "id": "c59b22fe",
   "metadata": {
    "id": "c59b22fe"
   },
   "outputs": [],
   "source": []
  },
  {
   "cell_type": "markdown",
   "id": "a802ec0d",
   "metadata": {
    "id": "a802ec0d"
   },
   "source": [
    "### 코드블럭\n",
    "코드블럭은 다음과 같이 2가지 방식을 사용할 수 있습니다:\n",
    "\n",
    "* `<pre><code>{code}</code></pre>` 이용방식\n",
    "\n",
    "```\n",
    "<pre>\n",
    "<code>\n",
    "public class BootSpringBootApplication {\n",
    "  public static void main(String[] args) {\n",
    "    System.out.println(\"Hello, Honeymon\");\n",
    "  }\n",
    "\n",
    "}\n",
    "</code>\n",
    "</pre>\n",
    "```"
   ]
  },
  {
   "cell_type": "code",
   "execution_count": null,
   "id": "847a8c05",
   "metadata": {
    "id": "847a8c05"
   },
   "outputs": [],
   "source": []
  },
  {
   "cell_type": "markdown",
   "id": "b2335af2",
   "metadata": {
    "id": "b2335af2"
   },
   "source": [
    "* 코드블럭코드(\"\\```\") 을 이용하는 방법\n",
    "\n",
    "```\n",
    "public class BootSpringBootApplication {\n",
    "  public static void main(String[] args) {\n",
    "    System.out.println(\"Hello, Honeymon\");\n",
    "  }\n",
    "}\n",
    "```\n"
   ]
  },
  {
   "cell_type": "code",
   "execution_count": null,
   "id": "03f7529e",
   "metadata": {
    "id": "03f7529e"
   },
   "outputs": [],
   "source": []
  },
  {
   "cell_type": "markdown",
   "id": "2b7ac88a",
   "metadata": {
    "id": "2b7ac88a"
   },
   "source": [
    "**깃헙**에서는 코드블럭코드(\"\\```\") 시작점에 사용하는 언어를 선언하여 [문법강조(Syntax highlighting)](https://docs.github.com/en/github/writing-on-github/creating-and-highlighting-code-blocks#syntax-highlighting)이 가능하다.\n",
    "```java\n",
    "public class BootSpringBootApplication {\n",
    "  public static void main(String[] args) {\n",
    "    System.out.println(\"Hello, Honeymon\");\n",
    "  }\n",
    "}\n",
    "```"
   ]
  },
  {
   "cell_type": "code",
   "execution_count": null,
   "id": "54b3b026",
   "metadata": {
    "id": "54b3b026"
   },
   "outputs": [],
   "source": []
  },
  {
   "cell_type": "markdown",
   "id": "383ba082",
   "metadata": {
    "id": "383ba082"
   },
   "source": [
    "## 수평선\n",
    "아래 줄은 모두 수평선을 만든다. 마크다운 문서를 미리보기로 출력할 때 *페이지 나누기* 용도로 많이 사용한다.\n",
    "\n",
    "```\n",
    "* * *\n",
    "\n",
    "***\n",
    "\n",
    "*****\n",
    "\n",
    "- - -\n",
    "\n",
    "---------------------------------------\n",
    "```"
   ]
  },
  {
   "cell_type": "code",
   "execution_count": null,
   "id": "595b4ec3",
   "metadata": {
    "id": "595b4ec3"
   },
   "outputs": [],
   "source": []
  },
  {
   "cell_type": "markdown",
   "id": "2b68ac1a",
   "metadata": {
    "id": "2b68ac1a"
   },
   "source": [
    "## 링크\n",
    "* 참조링크\n",
    "\n",
    "```\n",
    "[link keyword][id]\n",
    "\n",
    "[id]: URL \"Optional Title here\"\n",
    "\n",
    "// code\n",
    "Link: [Google][googlelink]\n",
    "\n",
    "[googlelink]: https://google.com \"Go google\"\n",
    "```"
   ]
  },
  {
   "cell_type": "markdown",
   "id": "8e8c42c1",
   "metadata": {
    "id": "799de18d"
   },
   "source": [
    "Link: [Naver][weblink]    \n",
    "[weblink]: https://naver.com \"go to naver\""
   ]
  },
  {
   "cell_type": "markdown",
   "id": "477f50c0",
   "metadata": {
    "id": "477f50c0"
   },
   "source": [
    "* 외부링크\n",
    "```\n",
    "사용문법: [Title](link)\n",
    "적용예: [Google](https://google.com \"google link\") # 쉼표를 주소로 인식하는 오류 주의\n",
    "```"
   ]
  },
  {
   "cell_type": "markdown",
   "id": "e13c0946",
   "metadata": {
    "id": "954b6e5e"
   },
   "source": [
    "[Naver](https://naver.com)"
   ]
  },
  {
   "cell_type": "markdown",
   "id": "72d3745b",
   "metadata": {
    "id": "72d3745b"
   },
   "source": [
    "* 자동연결\n",
    "```\n",
    "일반적인 URL 혹은 이메일주소인 경우 적절한 형식으로 링크를 형성한다.\n",
    "\n",
    "* 외부링크: <http://example.com/>\n",
    "* 이메일링크: <address@example.com>\n",
    "```"
   ]
  },
  {
   "cell_type": "code",
   "execution_count": null,
   "id": "c8f9352b",
   "metadata": {
    "id": "c8f9352b"
   },
   "outputs": [],
   "source": []
  },
  {
   "cell_type": "markdown",
   "id": "9c503991",
   "metadata": {
    "id": "9c503991"
   },
   "source": [
    "## 2.7. 강조\n",
    "```\n",
    "*single asterisks*\n",
    "_single underscores_\n",
    "**double asterisks**\n",
    "__double underscores__\n",
    "~~cancelline~~\n",
    "```"
   ]
  },
  {
   "cell_type": "markdown",
   "id": "453fd479",
   "metadata": {
    "id": "fa362d24"
   },
   "source": [
    "*강조*   \n",
    "_강조_   \n",
    "~~cancle~~"
   ]
  },
  {
   "cell_type": "markdown",
   "id": "10623985",
   "metadata": {
    "id": "10623985"
   },
   "source": [
    "> ```문장 중간에 사용할 경우에는 **띄어쓰기** 를 사용하는 것이 좋다.```   \n",
    "> 문장 중간에 사용할 경우에는 띄어쓰기를 사용하는 것이 좋다."
   ]
  },
  {
   "cell_type": "markdown",
   "id": "f8d0315e",
   "metadata": {
    "id": "aeb219d6"
   },
   "source": [
    "> 문장 중간에 사용할 경우에는 **띄어쓰기**를 사용하는 것이 좋다."
   ]
  },
  {
   "cell_type": "markdown",
   "id": "87ff90be",
   "metadata": {
    "id": "87ff90be"
   },
   "source": [
    "## 이미지\n",
    "```\n",
    "# 마크다운 안에 삽입\n",
    "![Alt text](/path/to/img.jpg)\n",
    "![Alt text](/path/to/img.jpg \"Optional title\")\n",
    "# 코드블럭에 삽입\n",
    "![image.png](attachment:image.png)\n",
    "```\n",
    "\n",
    "![석촌호수 러버덕](http://cfile6.uf.tistory.com/image/2426E646543C9B4532C7B0)\n",
    "![석촌호수 러버덕](http://cfile6.uf.tistory.com/image/2426E646543C9B4532C7B0 \"RubberDuck\")"
   ]
  },
  {
   "cell_type": "code",
   "execution_count": null,
   "id": "40b580d9",
   "metadata": {
    "id": "40b580d9"
   },
   "outputs": [],
   "source": []
  },
  {
   "cell_type": "markdown",
   "id": "f9d46842",
   "metadata": {
    "id": "f9d46842"
   },
   "source": [
    "사이즈 조절 기능은 없기 때문에 ```<img width=\"\" height=\"\"></img>```를 이용한다.\n",
    "\n",
    "예\n",
    "```\n",
    "<img src=\"/path/to/img.jpg\" width=\"450px\" height=\"300px\" title=\"px(픽셀) 크기 설정\" alt=\"RubberDuck\"></img><br/>\n",
    "<img src=\"/path/to/img.jpg\" width=\"40%\" height=\"30%\" title=\"px(픽셀) 크기 설정\" alt=\"RubberDuck\"></img>\n",
    "```\n",
    "\n",
    "<img src=\"http://cfile6.uf.tistory.com/image/2426E646543C9B4532C7B0\" width=\"450px\" height=\"300px\" title=\"px(픽셀) 크기 설정\" alt=\"RubberDuck\"></img><br/>\n",
    "<img src=\"http://cfile6.uf.tistory.com/image/2426E646543C9B4532C7B0\" width=\"40%\" height=\"30%\" title=\"%(비율) 크기 설정\" alt=\"RubberDuck\"></img>"
   ]
  },
  {
   "cell_type": "markdown",
   "id": "d404276e",
   "metadata": {
    "id": "d63eaa67"
   },
   "source": [
    "![Alt text](data:image/jpeg;base64,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 \"cute dog\")"
   ]
  },
  {
   "cell_type": "markdown",
   "id": "1a929d99",
   "metadata": {
    "id": "1a929d99"
   },
   "source": [
    "## 줄바꿈\n",
    "```\n",
    "* 줄 바꿈을 하기 위해서는 문장 마지막에서 3칸이상을 띄어쓰기해야 한다.\n",
    "이렇게\n",
    "\n",
    "* 줄 바꿈을 하기 위해서는 문장 마지막에서 3칸이상을 띄어쓰기해야 한다.___\\\\ 띄어쓰기\n",
    "이렇게\n",
    "```"
   ]
  },
  {
   "cell_type": "code",
   "execution_count": null,
   "id": "a6054667",
   "metadata": {
    "id": "a6054667"
   },
   "outputs": [],
   "source": []
  },
  {
   "cell_type": "markdown",
   "id": "dd6d2afd",
   "metadata": {
    "id": "dd6d2afd"
   },
   "source": [
    "## 테이블"
   ]
  },
  {
   "cell_type": "markdown",
   "id": "016a44ca",
   "metadata": {
    "id": "016a44ca"
   },
   "source": [
    "### 일반적인 표\n",
    "\n",
    "문자와 — 문자로 표를 만들 수 있습니다.\n",
    "```\n",
    "|제목|내용|설명|\n",
    "|------|---|---|\n",
    "|테스트1|테스트2|테스트3|\n",
    "|테스트1|테스트2|테스트3|\n",
    "|테스트1|테스트2|테스트3|\n",
    "```"
   ]
  },
  {
   "cell_type": "markdown",
   "id": "cd3b86fd",
   "metadata": {
    "executionInfo": {
     "elapsed": 3,
     "status": "ok",
     "timestamp": 1700617950330,
     "user": {
      "displayName": "Seunghye Kim",
      "userId": "03123368174336215832"
     },
     "user_tz": -540
    },
    "id": "a3467ca3"
   },
   "source": [
    "[테스트][테스트2]   \n",
    "[------]    \n",
    "[테스트1][테스트2]"
   ]
  },
  {
   "cell_type": "markdown",
   "id": "08613f3a",
   "metadata": {
    "id": "08613f3a"
   },
   "source": [
    "### 정렬\n",
    ": 문자로 정렬을 정의할 수 있습니다.\n",
    "```\n",
    "|제목|내용|설명|\n",
    "|:---|---:|:---:|\n",
    "|왼쪽정렬|오른쪽정렬|중앙정렬|\n",
    "|왼쪽정렬|오른쪽정렬|중앙정렬|\n",
    "|왼쪽정렬|오른쪽정렬|중앙정렬|\n",
    "```"
   ]
  },
  {
   "cell_type": "code",
   "execution_count": null,
   "id": "96585085",
   "metadata": {
    "id": "96585085"
   },
   "outputs": [],
   "source": []
  },
  {
   "cell_type": "markdown",
   "id": "2420807a",
   "metadata": {
    "id": "2420807a"
   },
   "source": [
    "### 셀 확장\n",
    "사이가 비어있으면 자동 확장됩니다.\n",
    "```\n",
    "|제목|내용|설명|\n",
    "|:---|:---:|---:|\n",
    "||중앙에서확장||\n",
    "|||오른쪽에서 확장|\n",
    "|왼쪽에서확장||\n",
    "```"
   ]
  },
  {
   "cell_type": "code",
   "execution_count": null,
   "id": "1e41e289",
   "metadata": {
    "id": "1e41e289"
   },
   "outputs": [],
   "source": []
  },
  {
   "cell_type": "markdown",
   "id": "030c56ab",
   "metadata": {
    "id": "030c56ab"
   },
   "source": [
    "### 셀 강조\n",
    "일반적인 text와 마찬가지로 * 와 ** 를 통해 이탤릭/강조를 표시할 수 있습니다. span tag를 사용하면 컬러도 표시할 수 있습니다.\n",
    "```\n",
    "|제목|내용|설명|\n",
    "|---|---|---|\n",
    "|테스트1|*강조1*|테스트3|\n",
    "|테스트1|**강조2**|테스트3|\n",
    "|테스트1|<span style=\"color:red\">강조3</span>|테스트3|\n",
    "```"
   ]
  },
  {
   "cell_type": "code",
   "execution_count": null,
   "id": "623c0509",
   "metadata": {
    "id": "623c0509"
   },
   "outputs": [],
   "source": []
  },
  {
   "cell_type": "markdown",
   "id": "57d175b2",
   "metadata": {
    "id": "57d175b2"
   },
   "source": [
    "#  수학 기호 LaTex표기법\n",
    "사칙연산, 분수, 제곱, 루트, 시그마, 로그, 행렬, 극한 등 수학 기호 및 수식 등 을 표현할 수 있다.\n",
    "[블로그 참고](https://velog.io/@d2h10s/LaTex-Markdown-%EC%88%98%EC%8B%9D-%EC%9E%91%EC%84%B1%EB%B2%95)"
   ]
  },
  {
   "cell_type": "code",
   "execution_count": null,
   "id": "5c7beefd",
   "metadata": {
    "id": "5c7beefd"
   },
   "outputs": [],
   "source": []
  }
 ],
 "metadata": {
  "colab": {
   "provenance": []
  },
  "kernelspec": {
   "display_name": "Python 3 (ipykernel)",
   "language": "python",
   "name": "python3"
  },
  "language_info": {
   "codemirror_mode": {
    "name": "ipython",
    "version": 3
   },
   "file_extension": ".py",
   "mimetype": "text/x-python",
   "name": "python",
   "nbconvert_exporter": "python",
   "pygments_lexer": "ipython3",
   "version": "3.11.5"
  },
  "toc": {
   "base_numbering": 1,
   "nav_menu": {},
   "number_sections": true,
   "sideBar": true,
   "skip_h1_title": false,
   "title_cell": "Table of Contents",
   "title_sidebar": "Contents",
   "toc_cell": false,
   "toc_position": {
    "height": "calc(100% - 180px)",
    "left": "10px",
    "top": "150px",
    "width": "307.2px"
   },
   "toc_section_display": true,
   "toc_window_display": false
  },
  "varInspector": {
   "cols": {
    "lenName": 16,
    "lenType": 16,
    "lenVar": 40
   },
   "kernels_config": {
    "python": {
     "delete_cmd_postfix": "",
     "delete_cmd_prefix": "del ",
     "library": "var_list.py",
     "varRefreshCmd": "print(var_dic_list())"
    },
    "r": {
     "delete_cmd_postfix": ") ",
     "delete_cmd_prefix": "rm(",
     "library": "var_list.r",
     "varRefreshCmd": "cat(var_dic_list()) "
    }
   },
   "types_to_exclude": [
    "module",
    "function",
    "builtin_function_or_method",
    "instance",
    "_Feature"
   ],
   "window_display": false
  }
 },
 "nbformat": 4,
 "nbformat_minor": 5
}
